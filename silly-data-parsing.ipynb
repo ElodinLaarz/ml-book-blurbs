{
 "cells": [
  {
   "attachments": {},
   "cell_type": "markdown",
   "metadata": {},
   "source": [
    "Here we gathering rating from books in a silly way because we wish to avoid visiting user pages (mine) via a script (I think it's against robots.txt; so, this is)\n",
    "It is night time and I am sleepy. I apologize for not commenting extensively here... >.<"
   ]
  },
  {
   "cell_type": "code",
   "execution_count": null,
   "metadata": {},
   "outputs": [],
   "source": [
    "# <div class=\"stars\" data-resource-id=\"816\" data-user-id=\"44539404\" data-submit-url=\"/review/rate/816?stars_click=false\" data-rating=\"4\" data-restore-rating=\"null\"><a class=\"star on\" title=\"did not like it\" href=\"#\" ref=\"\">1 of 5 stars</a><a class=\"star on\" title=\"it was ok\" href=\"#\" ref=\"\">2 of 5 stars</a><a class=\"star on\" title=\"liked it\" href=\"#\" ref=\"\">3 of 5 stars</a><a class=\"star on\" title=\"really liked it\" href=\"#\" ref=\"\">[ 4 of 5 stars ]</a><a class=\"star off\" title=\"it was amazing\" href=\"#\" ref=\"\">5 of 5 stars</a></div>\n",
    "# data-rating=\"4\"\n",
    "def get_rating(s):\n",
    "    r = s.split(\"data-rating=\\\"\")\n",
    "    return(int(r[1][0]))\n",
    "def get_uid(s):\n",
    "    try:\n",
    "        url_identifier = int(s.split(\"-\")[0])\n",
    "    except:\n",
    "        try:\n",
    "            url_identifier = int(s.split(\".\")[0])\n",
    "        except:\n",
    "            return None\n",
    "    return url_identifier"
   ]
  },
  {
   "cell_type": "code",
   "execution_count": null,
   "metadata": {},
   "outputs": [],
   "source": [
    "import pandas as pd\n",
    "\n",
    "ratings = []\n",
    "with open('./data/silly.txt', 'r') as f:\n",
    "    book_chunks = f.read().split(\"<a href=\\\"/book/show/\")\n",
    "    # print(book_chunks[1]+\"\\n\\n\\n\\n\\n\")\n",
    "    # things_seen = 0\n",
    "    k = \"\"\n",
    "    for chunk in book_chunks:\n",
    "        url = get_uid(chunk)\n",
    "        # print(url)\n",
    "        rating = -1\n",
    "        for line in chunk.split(\"\\n\"):\n",
    "            match k:\n",
    "                case \"rating\":\n",
    "                    k = \"\"\n",
    "                    rating = get_rating(line)\n",
    "                    # print(r)\n",
    "                case _:\n",
    "                    if \"my rating\" in line:\n",
    "                        k = \"rating\"\n",
    "        if rating != -1:\n",
    "            ratings.append((url, rating))\n",
    "\n",
    "df = pd.DataFrame(ratings, columns=[\"uid\", \"rating\"])\n",
    "df = df.convert_dtypes()\n",
    "\n",
    "df.to_csv('./data/silly_ratings.csv',index=False)\n",
    "# for r in ratings:\n",
    "#     print(r)"
   ]
  },
  {
   "cell_type": "code",
   "execution_count": null,
   "metadata": {},
   "outputs": [],
   "source": [
    "df"
   ]
  },
  {
   "cell_type": "code",
   "execution_count": null,
   "metadata": {},
   "outputs": [],
   "source": []
  }
 ],
 "metadata": {
  "kernelspec": {
   "display_name": "ml-book-learning",
   "language": "python",
   "name": "python3"
  },
  "language_info": {
   "codemirror_mode": {
    "name": "ipython",
    "version": 3
   },
   "file_extension": ".py",
   "mimetype": "text/x-python",
   "name": "python",
   "nbconvert_exporter": "python",
   "pygments_lexer": "ipython3",
   "version": "3.11.2"
  },
  "orig_nbformat": 4
 },
 "nbformat": 4,
 "nbformat_minor": 2
}
